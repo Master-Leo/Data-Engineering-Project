{
 "cells": [
  {
   "cell_type": "code",
   "execution_count": null,
   "id": "3307b886",
   "metadata": {},
   "outputs": [],
   "source": [
    "import pyspark\n",
    "from pyspark.sql import SparkSession\n",
    "from pyspark.conf import SparkConf\n",
    "from pyspark.context import SparkContext"
   ]
  },
  {
   "cell_type": "code",
   "execution_count": null,
   "id": "521f68b3",
   "metadata": {},
   "outputs": [],
   "source": [
    "import gcsfs\n",
    "import pandas as pd "
   ]
  },
  {
   "cell_type": "code",
   "execution_count": null,
   "id": "9f0ddbff",
   "metadata": {},
   "outputs": [],
   "source": [
    "json_key = '/Users/og/Desktop/de-final-project-388703-903ec0488aa0.json'\n",
    "\n",
    "\n",
    "conf = SparkConf() \\\n",
    "    .setMaster('local[*]') \\\n",
    "    .setAppName('demographic_data') \\\n",
    "    .set(\"spark.jars\", \"./lib/gcs-connector-hadoop3-2.2.5.jar\") \\\n",
    "    .set(\"spark.hadoop.google.cloud.auth.service.account.enable\", \"true\") \\\n",
    "    .set(\"spark.hadoop.google.cloud.auth.service.account.json.keyfile\", json_key)"
   ]
  },
  {
   "cell_type": "code",
   "execution_count": null,
   "id": "b83404e8",
   "metadata": {},
   "outputs": [],
   "source": [
    "sc = SparkContext(conf=conf)\n",
    "\n",
    "hadoop_conf = sc._jsc.hadoopConfiguration()\n",
    "\n",
    "hadoop_conf.set(\"fs.AbstractFileSystem.gs.impl\",  \"com.google.cloud.hadoop.fs.gcs.GoogleHadoopFS\")\n",
    "hadoop_conf.set(\"fs.gs.impl\", \"com.google.cloud.hadoop.fs.gcs.GoogleHadoopFileSystem\")\n",
    "hadoop_conf.set(\"fs.gs.auth.service.account.json.keyfile\", json_key)\n",
    "hadoop_conf.set(\"fs.gs.auth.service.account.enable\", \"true\")"
   ]
  },
  {
   "cell_type": "code",
   "execution_count": null,
   "id": "c4713e2b",
   "metadata": {},
   "outputs": [],
   "source": [
    "spark = SparkSession.builder \\\n",
    "    .config(conf=sc.getConf()) \\\n",
    "    .getOrCreate()"
   ]
  },
  {
   "cell_type": "code",
   "execution_count": null,
   "id": "62b1d3ce",
   "metadata": {},
   "outputs": [],
   "source": [
    "bucket = 'de_final_project_bucket'\n",
    "base_path = 'data/demographic/city/'\n",
    "years = range(2016,2022)\n",
    "dfs = []\n",
    "\n",
    "for year in years:\n",
    "    file_path = f'{base_path}{year}_California_city_demographic_data.parquet'\n",
    "    df = spark.read.parquet(f'gs://{bucket}/{file_path}')\n",
    "    dfs.append(df)"
   ]
  },
  {
   "cell_type": "code",
   "execution_count": null,
   "id": "19c64c88",
   "metadata": {},
   "outputs": [],
   "source": [
    "meta_df = None \n",
    "\n",
    "for df in dfs:\n",
    "    if meta_df is None:\n",
    "        meta_df = df \n",
    "    else:\n",
    "        meta_df = meta_df.union(df)"
   ]
  },
  {
   "cell_type": "code",
   "execution_count": null,
   "id": "f7ed3260",
   "metadata": {},
   "outputs": [],
   "source": [
    "meta_df.show()"
   ]
  },
  {
   "cell_type": "code",
   "execution_count": null,
   "id": "1ee1eb1d",
   "metadata": {},
   "outputs": [],
   "source": [
    "# df = spark.read.parquet('gs://de_final_project_bucket/data/demographic/city/*_Florida_city_demographic_data.parquet')"
   ]
  },
  {
   "cell_type": "code",
   "execution_count": null,
   "id": "69915bea",
   "metadata": {},
   "outputs": [],
   "source": [
    "column_count = len(meta_df.columns)\n",
    "print('Column Count:', column_count)"
   ]
  },
  {
   "cell_type": "code",
   "execution_count": null,
   "id": "8cce1185",
   "metadata": {},
   "outputs": [],
   "source": [
    "row_count = meta_df.count()\n",
    "print('Row Count:', row_count)"
   ]
  },
  {
   "cell_type": "code",
   "execution_count": null,
   "id": "f56a885d",
   "metadata": {},
   "outputs": [],
   "source": []
  }
 ],
 "metadata": {
  "kernelspec": {
   "display_name": "Python 3 (ipykernel)",
   "language": "python",
   "name": "python3"
  },
  "language_info": {
   "codemirror_mode": {
    "name": "ipython",
    "version": 3
   },
   "file_extension": ".py",
   "mimetype": "text/x-python",
   "name": "python",
   "nbconvert_exporter": "python",
   "pygments_lexer": "ipython3",
   "version": "3.9.16"
  }
 },
 "nbformat": 4,
 "nbformat_minor": 5
}
