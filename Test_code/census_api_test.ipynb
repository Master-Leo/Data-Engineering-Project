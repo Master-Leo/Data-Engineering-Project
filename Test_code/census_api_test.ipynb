{
 "cells": [
  {
   "cell_type": "code",
   "execution_count": 23,
   "metadata": {},
   "outputs": [],
   "source": [
    "import pandas as pd\n",
    "import os\n",
    "import sys\n",
    "import requests\n",
    "from census import Census\n",
    "from us import states\n",
    "import zipfile \n",
    "from configy import api_key\n"
   ]
  },
  {
   "cell_type": "code",
   "execution_count": 27,
   "metadata": {},
   "outputs": [
    {
     "name": "stdout",
     "output_type": "stream",
     "text": [
      "Downloading usa-real-estate-dataset.zip to /Users/og/Desktop/Final_Project/Data-Engineering-Project/Test_code\n",
      " 87%|█████████████████████████████████     | 13.0M/14.9M [00:00<00:00, 19.7MB/s]\n",
      "100%|██████████████████████████████████████| 14.9M/14.9M [00:00<00:00, 18.5MB/s]\n"
     ]
    }
   ],
   "source": [
    "!kaggle datasets download -d ahmedshahriarsakib/usa-real-estate-dataset\n"
   ]
  },
  {
   "attachments": {},
   "cell_type": "markdown",
   "metadata": {},
   "source": [
    "# Extraction"
   ]
  },
  {
   "cell_type": "code",
   "execution_count": 31,
   "metadata": {},
   "outputs": [],
   "source": [
    "import os\n",
    "import zipfile\n",
    "\n",
    "def extract_real_estate_data() -> str:\n",
    "    !kaggle datasets download -d ahmedshahriarsakib/usa-real-estate-dataset\n",
    "    zip_path = './usa-real-estate-dataset.zip'\n",
    "    csv_folder = './data/real_estate/'\n",
    "    \n",
    "    with zipfile.ZipFile(zip_path, 'r') as zip_ref:\n",
    "        zip_ref.extractall(csv_folder)\n",
    "    \n",
    "    os.remove(zip_path)\n",
    "    \n",
    "    csv_file = os.path.join(csv_folder, 'usa-real-estate-dataset.zip')\n",
    "    return csv_file\n"
   ]
  },
  {
   "cell_type": "code",
   "execution_count": 32,
   "metadata": {},
   "outputs": [
    {
     "name": "stdout",
     "output_type": "stream",
     "text": [
      "Downloading usa-real-estate-dataset.zip to /Users/og/Desktop/Final_Project/Data-Engineering-Project/Test_code\n",
      "100%|██████████████████████████████████████| 14.9M/14.9M [00:00<00:00, 40.5MB/s]\n",
      "100%|██████████████████████████████████████| 14.9M/14.9M [00:00<00:00, 35.6MB/s]\n"
     ]
    }
   ],
   "source": [
    "\n",
    "# Call the function to extract the data and get the path to the CSV file\n",
    "csv_path = extract_real_estate_data()"
   ]
  },
  {
   "cell_type": "code",
   "execution_count": 29,
   "metadata": {},
   "outputs": [],
   "source": [
    "zip_path = './usa-real-estate-dataset.zip'\n",
    "\n",
    "with zipfile.ZipFile(zip_path, 'r') as zip_ref:\n",
    "    zip_ref.extractall('./')"
   ]
  },
  {
   "cell_type": "code",
   "execution_count": 30,
   "metadata": {},
   "outputs": [],
   "source": [
    "os.remove(zip_path)"
   ]
  },
  {
   "cell_type": "code",
   "execution_count": 4,
   "metadata": {},
   "outputs": [],
   "source": [
    "path = './realtor-data.csv'\n",
    "\n",
    "df = pd.read_csv(path)"
   ]
  },
  {
   "cell_type": "code",
   "execution_count": 5,
   "metadata": {},
   "outputs": [],
   "source": [
    "states = ['California','Florida','New York','Texas','Pennsylvania']\n",
    "df = df[df['state'].isin(states)]"
   ]
  },
  {
   "cell_type": "code",
   "execution_count": 6,
   "metadata": {},
   "outputs": [
    {
     "data": {
      "text/html": [
       "<div>\n",
       "<style scoped>\n",
       "    .dataframe tbody tr th:only-of-type {\n",
       "        vertical-align: middle;\n",
       "    }\n",
       "\n",
       "    .dataframe tbody tr th {\n",
       "        vertical-align: top;\n",
       "    }\n",
       "\n",
       "    .dataframe thead th {\n",
       "        text-align: right;\n",
       "    }\n",
       "</style>\n",
       "<table border=\"1\" class=\"dataframe\">\n",
       "  <thead>\n",
       "    <tr style=\"text-align: right;\">\n",
       "      <th></th>\n",
       "      <th>status</th>\n",
       "      <th>price</th>\n",
       "      <th>bed</th>\n",
       "      <th>bath</th>\n",
       "      <th>acre_lot</th>\n",
       "      <th>full_address</th>\n",
       "      <th>street</th>\n",
       "      <th>city</th>\n",
       "      <th>state</th>\n",
       "      <th>zip_code</th>\n",
       "      <th>house_size</th>\n",
       "      <th>sold_date</th>\n",
       "    </tr>\n",
       "  </thead>\n",
       "  <tbody>\n",
       "    <tr>\n",
       "      <th>30149</th>\n",
       "      <td>for_sale</td>\n",
       "      <td>175000.0</td>\n",
       "      <td>3.0</td>\n",
       "      <td>1.0</td>\n",
       "      <td>60.00</td>\n",
       "      <td>187 Bly Hollow Rd, Berlin, NY, 12022</td>\n",
       "      <td>187 Bly Hollow Rd</td>\n",
       "      <td>Berlin</td>\n",
       "      <td>New York</td>\n",
       "      <td>12022.0</td>\n",
       "      <td>1176.0</td>\n",
       "      <td>NaN</td>\n",
       "    </tr>\n",
       "    <tr>\n",
       "      <th>54248</th>\n",
       "      <td>for_sale</td>\n",
       "      <td>425000.0</td>\n",
       "      <td>3.0</td>\n",
       "      <td>2.0</td>\n",
       "      <td>2.02</td>\n",
       "      <td>1288 Route 23, Claverack, NY, 12521</td>\n",
       "      <td>1288 Route 23</td>\n",
       "      <td>Claverack</td>\n",
       "      <td>New York</td>\n",
       "      <td>12521.0</td>\n",
       "      <td>1600.0</td>\n",
       "      <td>2021-11-24</td>\n",
       "    </tr>\n",
       "    <tr>\n",
       "      <th>54258</th>\n",
       "      <td>for_sale</td>\n",
       "      <td>225000.0</td>\n",
       "      <td>4.0</td>\n",
       "      <td>2.0</td>\n",
       "      <td>0.24</td>\n",
       "      <td>28 Oriole Rd, Copake, NY, 12521</td>\n",
       "      <td>28 Oriole Rd</td>\n",
       "      <td>Copake</td>\n",
       "      <td>New York</td>\n",
       "      <td>12521.0</td>\n",
       "      <td>1239.0</td>\n",
       "      <td>2018-02-01</td>\n",
       "    </tr>\n",
       "    <tr>\n",
       "      <th>54259</th>\n",
       "      <td>for_sale</td>\n",
       "      <td>419000.0</td>\n",
       "      <td>3.0</td>\n",
       "      <td>3.0</td>\n",
       "      <td>1.90</td>\n",
       "      <td>1315 Lake View Rd, Copake, NY, 12516</td>\n",
       "      <td>1315 Lake View Rd</td>\n",
       "      <td>Copake</td>\n",
       "      <td>New York</td>\n",
       "      <td>12516.0</td>\n",
       "      <td>1800.0</td>\n",
       "      <td>NaN</td>\n",
       "    </tr>\n",
       "    <tr>\n",
       "      <th>54262</th>\n",
       "      <td>for_sale</td>\n",
       "      <td>365000.0</td>\n",
       "      <td>3.0</td>\n",
       "      <td>2.0</td>\n",
       "      <td>2.00</td>\n",
       "      <td>105-111 Breezy Hl, Copake, NY, 12517</td>\n",
       "      <td>105-111 Breezy Hl</td>\n",
       "      <td>Copake</td>\n",
       "      <td>New York</td>\n",
       "      <td>12517.0</td>\n",
       "      <td>1482.0</td>\n",
       "      <td>NaN</td>\n",
       "    </tr>\n",
       "  </tbody>\n",
       "</table>\n",
       "</div>"
      ],
      "text/plain": [
       "         status     price  bed  bath  acre_lot  \\\n",
       "30149  for_sale  175000.0  3.0   1.0     60.00   \n",
       "54248  for_sale  425000.0  3.0   2.0      2.02   \n",
       "54258  for_sale  225000.0  4.0   2.0      0.24   \n",
       "54259  for_sale  419000.0  3.0   3.0      1.90   \n",
       "54262  for_sale  365000.0  3.0   2.0      2.00   \n",
       "\n",
       "                               full_address             street       city  \\\n",
       "30149  187 Bly Hollow Rd, Berlin, NY, 12022  187 Bly Hollow Rd     Berlin   \n",
       "54248   1288 Route 23, Claverack, NY, 12521      1288 Route 23  Claverack   \n",
       "54258       28 Oriole Rd, Copake, NY, 12521       28 Oriole Rd     Copake   \n",
       "54259  1315 Lake View Rd, Copake, NY, 12516  1315 Lake View Rd     Copake   \n",
       "54262  105-111 Breezy Hl, Copake, NY, 12517  105-111 Breezy Hl     Copake   \n",
       "\n",
       "          state  zip_code  house_size   sold_date  \n",
       "30149  New York   12022.0      1176.0         NaN  \n",
       "54248  New York   12521.0      1600.0  2021-11-24  \n",
       "54258  New York   12521.0      1239.0  2018-02-01  \n",
       "54259  New York   12516.0      1800.0         NaN  \n",
       "54262  New York   12517.0      1482.0         NaN  "
      ]
     },
     "execution_count": 6,
     "metadata": {},
     "output_type": "execute_result"
    }
   ],
   "source": [
    "df.head(5)"
   ]
  },
  {
   "cell_type": "code",
   "execution_count": 33,
   "metadata": {},
   "outputs": [],
   "source": [
    "df = df[df['sold_date'].dt.year.between(2016,2021)]"
   ]
  },
  {
   "cell_type": "code",
   "execution_count": 35,
   "metadata": {},
   "outputs": [
    {
     "data": {
      "text/plain": [
       "(11310, 12)"
      ]
     },
     "execution_count": 35,
     "metadata": {},
     "output_type": "execute_result"
    }
   ],
   "source": [
    "df.shape"
   ]
  },
  {
   "cell_type": "code",
   "execution_count": 37,
   "metadata": {},
   "outputs": [
    {
     "data": {
      "text/html": [
       "<div>\n",
       "<style scoped>\n",
       "    .dataframe tbody tr th:only-of-type {\n",
       "        vertical-align: middle;\n",
       "    }\n",
       "\n",
       "    .dataframe tbody tr th {\n",
       "        vertical-align: top;\n",
       "    }\n",
       "\n",
       "    .dataframe thead th {\n",
       "        text-align: right;\n",
       "    }\n",
       "</style>\n",
       "<table border=\"1\" class=\"dataframe\">\n",
       "  <thead>\n",
       "    <tr style=\"text-align: right;\">\n",
       "      <th></th>\n",
       "      <th>status</th>\n",
       "      <th>price</th>\n",
       "      <th>bed</th>\n",
       "      <th>bath</th>\n",
       "      <th>acre_lot</th>\n",
       "      <th>full_address</th>\n",
       "      <th>street</th>\n",
       "      <th>city</th>\n",
       "      <th>state</th>\n",
       "      <th>zip_code</th>\n",
       "      <th>house_size</th>\n",
       "      <th>sold_date</th>\n",
       "    </tr>\n",
       "  </thead>\n",
       "  <tbody>\n",
       "    <tr>\n",
       "      <th>30149</th>\n",
       "      <td>for_sale</td>\n",
       "      <td>175000.0</td>\n",
       "      <td>3</td>\n",
       "      <td>1</td>\n",
       "      <td>60.00</td>\n",
       "      <td>187 Bly Hollow Rd, Berlin, NY, 12022</td>\n",
       "      <td>187 Bly Hollow Rd</td>\n",
       "      <td>Berlin</td>\n",
       "      <td>New York</td>\n",
       "      <td>12022</td>\n",
       "      <td>1176</td>\n",
       "      <td>NaT</td>\n",
       "    </tr>\n",
       "    <tr>\n",
       "      <th>54248</th>\n",
       "      <td>for_sale</td>\n",
       "      <td>425000.0</td>\n",
       "      <td>3</td>\n",
       "      <td>2</td>\n",
       "      <td>2.02</td>\n",
       "      <td>1288 Route 23, Claverack, NY, 12521</td>\n",
       "      <td>1288 Route 23</td>\n",
       "      <td>Claverack</td>\n",
       "      <td>New York</td>\n",
       "      <td>12521</td>\n",
       "      <td>1600</td>\n",
       "      <td>2021-11-24</td>\n",
       "    </tr>\n",
       "    <tr>\n",
       "      <th>54258</th>\n",
       "      <td>for_sale</td>\n",
       "      <td>225000.0</td>\n",
       "      <td>4</td>\n",
       "      <td>2</td>\n",
       "      <td>0.24</td>\n",
       "      <td>28 Oriole Rd, Copake, NY, 12521</td>\n",
       "      <td>28 Oriole Rd</td>\n",
       "      <td>Copake</td>\n",
       "      <td>New York</td>\n",
       "      <td>12521</td>\n",
       "      <td>1239</td>\n",
       "      <td>2018-02-01</td>\n",
       "    </tr>\n",
       "    <tr>\n",
       "      <th>54259</th>\n",
       "      <td>for_sale</td>\n",
       "      <td>419000.0</td>\n",
       "      <td>3</td>\n",
       "      <td>3</td>\n",
       "      <td>1.90</td>\n",
       "      <td>1315 Lake View Rd, Copake, NY, 12516</td>\n",
       "      <td>1315 Lake View Rd</td>\n",
       "      <td>Copake</td>\n",
       "      <td>New York</td>\n",
       "      <td>12516</td>\n",
       "      <td>1800</td>\n",
       "      <td>NaT</td>\n",
       "    </tr>\n",
       "    <tr>\n",
       "      <th>54262</th>\n",
       "      <td>for_sale</td>\n",
       "      <td>365000.0</td>\n",
       "      <td>3</td>\n",
       "      <td>2</td>\n",
       "      <td>2.00</td>\n",
       "      <td>105-111 Breezy Hl, Copake, NY, 12517</td>\n",
       "      <td>105-111 Breezy Hl</td>\n",
       "      <td>Copake</td>\n",
       "      <td>New York</td>\n",
       "      <td>12517</td>\n",
       "      <td>1482</td>\n",
       "      <td>NaT</td>\n",
       "    </tr>\n",
       "  </tbody>\n",
       "</table>\n",
       "</div>"
      ],
      "text/plain": [
       "         status     price  bed  bath  acre_lot  \\\n",
       "30149  for_sale  175000.0    3     1     60.00   \n",
       "54248  for_sale  425000.0    3     2      2.02   \n",
       "54258  for_sale  225000.0    4     2      0.24   \n",
       "54259  for_sale  419000.0    3     3      1.90   \n",
       "54262  for_sale  365000.0    3     2      2.00   \n",
       "\n",
       "                               full_address             street       city  \\\n",
       "30149  187 Bly Hollow Rd, Berlin, NY, 12022  187 Bly Hollow Rd     Berlin   \n",
       "54248   1288 Route 23, Claverack, NY, 12521      1288 Route 23  Claverack   \n",
       "54258       28 Oriole Rd, Copake, NY, 12521       28 Oriole Rd     Copake   \n",
       "54259  1315 Lake View Rd, Copake, NY, 12516  1315 Lake View Rd     Copake   \n",
       "54262  105-111 Breezy Hl, Copake, NY, 12517  105-111 Breezy Hl     Copake   \n",
       "\n",
       "          state  zip_code  house_size  sold_date  \n",
       "30149  New York     12022        1176        NaT  \n",
       "54248  New York     12521        1600 2021-11-24  \n",
       "54258  New York     12521        1239 2018-02-01  \n",
       "54259  New York     12516        1800        NaT  \n",
       "54262  New York     12517        1482        NaT  "
      ]
     },
     "execution_count": 37,
     "metadata": {},
     "output_type": "execute_result"
    }
   ],
   "source": [
    "df.head()"
   ]
  },
  {
   "cell_type": "code",
   "execution_count": 36,
   "metadata": {},
   "outputs": [
    {
     "data": {
      "text/plain": [
       "(64319, 12)"
      ]
     },
     "execution_count": 36,
     "metadata": {},
     "output_type": "execute_result"
    }
   ],
   "source": [
    "df.shape"
   ]
  },
  {
   "cell_type": "code",
   "execution_count": 8,
   "metadata": {},
   "outputs": [
    {
     "data": {
      "text/plain": [
       "status           object\n",
       "price           float64\n",
       "bed             float64\n",
       "bath            float64\n",
       "acre_lot        float64\n",
       "full_address     object\n",
       "street           object\n",
       "city             object\n",
       "state            object\n",
       "zip_code        float64\n",
       "house_size      float64\n",
       "sold_date        object\n",
       "dtype: object"
      ]
     },
     "execution_count": 8,
     "metadata": {},
     "output_type": "execute_result"
    }
   ],
   "source": [
    "df.dtypes"
   ]
  },
  {
   "cell_type": "code",
   "execution_count": 9,
   "metadata": {},
   "outputs": [],
   "source": [
    "df['sold_date'] = pd.to_datetime(df['sold_date'], format='%Y-%m-%d')"
   ]
  },
  {
   "cell_type": "code",
   "execution_count": 10,
   "metadata": {},
   "outputs": [],
   "source": [
    "df[['house_size','bed','bath','zip_code']] = df[['house_size','bed','bath','zip_code']].fillna(0).astype(int)"
   ]
  },
  {
   "cell_type": "code",
   "execution_count": 11,
   "metadata": {},
   "outputs": [
    {
     "data": {
      "text/plain": [
       "status                  object\n",
       "price                  float64\n",
       "bed                      int64\n",
       "bath                     int64\n",
       "acre_lot               float64\n",
       "full_address            object\n",
       "street                  object\n",
       "city                    object\n",
       "state                   object\n",
       "zip_code                 int64\n",
       "house_size               int64\n",
       "sold_date       datetime64[ns]\n",
       "dtype: object"
      ]
     },
     "execution_count": 11,
     "metadata": {},
     "output_type": "execute_result"
    }
   ],
   "source": [
    "df.dtypes"
   ]
  },
  {
   "cell_type": "code",
   "execution_count": 12,
   "metadata": {},
   "outputs": [
    {
     "data": {
      "text/html": [
       "<div>\n",
       "<style scoped>\n",
       "    .dataframe tbody tr th:only-of-type {\n",
       "        vertical-align: middle;\n",
       "    }\n",
       "\n",
       "    .dataframe tbody tr th {\n",
       "        vertical-align: top;\n",
       "    }\n",
       "\n",
       "    .dataframe thead th {\n",
       "        text-align: right;\n",
       "    }\n",
       "</style>\n",
       "<table border=\"1\" class=\"dataframe\">\n",
       "  <thead>\n",
       "    <tr style=\"text-align: right;\">\n",
       "      <th></th>\n",
       "      <th>status</th>\n",
       "      <th>price</th>\n",
       "      <th>bed</th>\n",
       "      <th>bath</th>\n",
       "      <th>acre_lot</th>\n",
       "      <th>full_address</th>\n",
       "      <th>street</th>\n",
       "      <th>city</th>\n",
       "      <th>state</th>\n",
       "      <th>zip_code</th>\n",
       "      <th>house_size</th>\n",
       "      <th>sold_date</th>\n",
       "    </tr>\n",
       "  </thead>\n",
       "  <tbody>\n",
       "    <tr>\n",
       "      <th>30149</th>\n",
       "      <td>for_sale</td>\n",
       "      <td>175000.0</td>\n",
       "      <td>3</td>\n",
       "      <td>1</td>\n",
       "      <td>60.00</td>\n",
       "      <td>187 Bly Hollow Rd, Berlin, NY, 12022</td>\n",
       "      <td>187 Bly Hollow Rd</td>\n",
       "      <td>Berlin</td>\n",
       "      <td>New York</td>\n",
       "      <td>12022</td>\n",
       "      <td>1176</td>\n",
       "      <td>NaT</td>\n",
       "    </tr>\n",
       "    <tr>\n",
       "      <th>54248</th>\n",
       "      <td>for_sale</td>\n",
       "      <td>425000.0</td>\n",
       "      <td>3</td>\n",
       "      <td>2</td>\n",
       "      <td>2.02</td>\n",
       "      <td>1288 Route 23, Claverack, NY, 12521</td>\n",
       "      <td>1288 Route 23</td>\n",
       "      <td>Claverack</td>\n",
       "      <td>New York</td>\n",
       "      <td>12521</td>\n",
       "      <td>1600</td>\n",
       "      <td>2021-11-24</td>\n",
       "    </tr>\n",
       "    <tr>\n",
       "      <th>54258</th>\n",
       "      <td>for_sale</td>\n",
       "      <td>225000.0</td>\n",
       "      <td>4</td>\n",
       "      <td>2</td>\n",
       "      <td>0.24</td>\n",
       "      <td>28 Oriole Rd, Copake, NY, 12521</td>\n",
       "      <td>28 Oriole Rd</td>\n",
       "      <td>Copake</td>\n",
       "      <td>New York</td>\n",
       "      <td>12521</td>\n",
       "      <td>1239</td>\n",
       "      <td>2018-02-01</td>\n",
       "    </tr>\n",
       "    <tr>\n",
       "      <th>54259</th>\n",
       "      <td>for_sale</td>\n",
       "      <td>419000.0</td>\n",
       "      <td>3</td>\n",
       "      <td>3</td>\n",
       "      <td>1.90</td>\n",
       "      <td>1315 Lake View Rd, Copake, NY, 12516</td>\n",
       "      <td>1315 Lake View Rd</td>\n",
       "      <td>Copake</td>\n",
       "      <td>New York</td>\n",
       "      <td>12516</td>\n",
       "      <td>1800</td>\n",
       "      <td>NaT</td>\n",
       "    </tr>\n",
       "    <tr>\n",
       "      <th>54262</th>\n",
       "      <td>for_sale</td>\n",
       "      <td>365000.0</td>\n",
       "      <td>3</td>\n",
       "      <td>2</td>\n",
       "      <td>2.00</td>\n",
       "      <td>105-111 Breezy Hl, Copake, NY, 12517</td>\n",
       "      <td>105-111 Breezy Hl</td>\n",
       "      <td>Copake</td>\n",
       "      <td>New York</td>\n",
       "      <td>12517</td>\n",
       "      <td>1482</td>\n",
       "      <td>NaT</td>\n",
       "    </tr>\n",
       "  </tbody>\n",
       "</table>\n",
       "</div>"
      ],
      "text/plain": [
       "         status     price  bed  bath  acre_lot  \\\n",
       "30149  for_sale  175000.0    3     1     60.00   \n",
       "54248  for_sale  425000.0    3     2      2.02   \n",
       "54258  for_sale  225000.0    4     2      0.24   \n",
       "54259  for_sale  419000.0    3     3      1.90   \n",
       "54262  for_sale  365000.0    3     2      2.00   \n",
       "\n",
       "                               full_address             street       city  \\\n",
       "30149  187 Bly Hollow Rd, Berlin, NY, 12022  187 Bly Hollow Rd     Berlin   \n",
       "54248   1288 Route 23, Claverack, NY, 12521      1288 Route 23  Claverack   \n",
       "54258       28 Oriole Rd, Copake, NY, 12521       28 Oriole Rd     Copake   \n",
       "54259  1315 Lake View Rd, Copake, NY, 12516  1315 Lake View Rd     Copake   \n",
       "54262  105-111 Breezy Hl, Copake, NY, 12517  105-111 Breezy Hl     Copake   \n",
       "\n",
       "          state  zip_code  house_size  sold_date  \n",
       "30149  New York     12022        1176        NaT  \n",
       "54248  New York     12521        1600 2021-11-24  \n",
       "54258  New York     12521        1239 2018-02-01  \n",
       "54259  New York     12516        1800        NaT  \n",
       "54262  New York     12517        1482        NaT  "
      ]
     },
     "execution_count": 12,
     "metadata": {},
     "output_type": "execute_result"
    }
   ],
   "source": [
    "df.head()"
   ]
  },
  {
   "cell_type": "code",
   "execution_count": 13,
   "metadata": {},
   "outputs": [
    {
     "data": {
      "text/plain": [
       "status              0\n",
       "price               0\n",
       "bed                 0\n",
       "bath                0\n",
       "acre_lot        37173\n",
       "full_address        0\n",
       "street            493\n",
       "city                1\n",
       "state               0\n",
       "zip_code            0\n",
       "house_size          0\n",
       "sold_date       29853\n",
       "dtype: int64"
      ]
     },
     "execution_count": 13,
     "metadata": {},
     "output_type": "execute_result"
    }
   ],
   "source": [
    "df.isnull().sum()"
   ]
  },
  {
   "cell_type": "code",
   "execution_count": 14,
   "metadata": {},
   "outputs": [
    {
     "data": {
      "text/plain": [
       "(64319, 12)"
      ]
     },
     "execution_count": 14,
     "metadata": {},
     "output_type": "execute_result"
    }
   ],
   "source": [
    "df.shape"
   ]
  },
  {
   "cell_type": "code",
   "execution_count": 15,
   "metadata": {},
   "outputs": [],
   "source": [
    "# from geopy.geocoders import Nominatim\n",
    "# import requests\n",
    "# import logging"
   ]
  },
  {
   "cell_type": "code",
   "execution_count": 16,
   "metadata": {},
   "outputs": [],
   "source": [
    "\n",
    "# def get_coordinates(area, country='USA'):\n",
    "#     geolocator = Nominatim(user_agent=\"my-app\")  # Specify a user agent for the geocoding service\n",
    "#     location = geolocator.geocode(area + \", \" + country)\n",
    "#     if location:\n",
    "#         latitude = location.latitude\n",
    "#         longitude = location.longitude\n",
    "#         return latitude, longitude\n",
    "#     else:\n",
    "#         return None, None"
   ]
  },
  {
   "cell_type": "code",
   "execution_count": 17,
   "metadata": {},
   "outputs": [],
   "source": [
    "# pip install geopy"
   ]
  },
  {
   "cell_type": "code",
   "execution_count": 18,
   "metadata": {},
   "outputs": [],
   "source": [
    "# import pandas as pd\n",
    "# from pyspark.sql import SparkSession\n",
    "# import logging\n",
    "\n",
    "# # Configure logging\n",
    "# logging.basicConfig(level=logging.INFO)\n",
    "\n",
    "# # Create a SparkSession\n",
    "# spark = SparkSession.builder.getOrCreate()\n",
    "\n",
    "# # Convert pandas DataFrame to PySpark DataFrame\n",
    "# pyspark_df = spark.createDataFrame(zip_code_df)\n",
    "\n",
    "# # Convert PySpark DataFrame to Pandas DataFrame\n",
    "# pandas_df = pyspark_df.toPandas()\n",
    "\n",
    "# # Add latitude and longitude columns using pandas apply method\n",
    "# def add_coordinates(row):\n",
    "#     zip_code = row['zip_code']\n",
    "#     latitude, longitude = get_coordinates(zip_code, \"\")\n",
    "#     print(f\"Zip Code: {zip_code}, Latitude: {latitude}, Longitude: {longitude}\")\n",
    "#     return pd.Series([latitude, longitude])\n",
    "\n",
    "# pandas_df[['latitude', 'longitude']] = pandas_df.apply(add_coordinates, axis=1)\n",
    "\n",
    "# # Convert Pandas DataFrame back to PySpark DataFrame\n",
    "# pyspark_df = spark.createDataFrame(pandas_df)\n",
    "\n",
    "# # Show the resulting DataFrame\n",
    "# pyspark_df.show()\n",
    "\n"
   ]
  },
  {
   "cell_type": "code",
   "execution_count": 19,
   "metadata": {},
   "outputs": [],
   "source": [
    "# state_df['latitude'] = \"\"\n",
    "# state_df['longitude'] = \"\"\n",
    "# for index, row in state_df.iterrows():\n",
    "#     name = row['zip_code']\n",
    "#     latitude, longitude = get_coordinates(name, \"\")\n",
    "#     state_df.at[index, 'latitude'] = latitude\n",
    "#     state_df.at[index, 'longitude'] = longitude\n",
    "#     print(f\"Coordinates for State {name}: Latitude={latitude}, Longitude={longitude}\")\n",
    "\n",
    "\n",
    "# city_df['latitude'] = \"\"\n",
    "# city_df['longitude'] = \"\"\n",
    "# for index, row in city_df.iterrows():\n",
    "#     city = row['city']\n",
    "#     latitude, longitude = get_coordinates(city, \"\")\n",
    "#     city_df.at[index, 'latitude'] = latitude\n",
    "#     city_df.at[index, 'longitude'] = longitude\n",
    "#     print(f\"Coordinates for city {city}: Latitude={latitude}, Longitude={longitude}\")\n",
    "\n",
    "\n",
    "# zip_code_df['latitude'] = \"\"\n",
    "# zip_code_df['longitude'] = \"\"\n",
    "# for index, row in zip_code_df.iterrows():\n",
    "#     zip_code = row['zip_code']\n",
    "#     latitude, longitude = get_coordinates(zip_code, \"\")\n",
    "#     zip_code_df.at[index, 'latitude'] = latitude\n",
    "#     zip_code_df.at[index, 'longitude'] = longitude\n",
    "#     print(f\"Coordinates for zip code {zip_code}: Latitude={latitude}, Longitude={longitude}\")"
   ]
  },
  {
   "attachments": {},
   "cell_type": "markdown",
   "metadata": {},
   "source": [
    "# Transformation Notes\n",
    "- add poverty_rate, employment_rate with pyspark in second ETL pipline to BQ warehouse\n",
    "\n",
    "- split city column into city & state with PD first ETL pipeline to Storage lake \n",
    "- zip_df remove zip_code_tabluation_area first ETL pipeline with PD\n",
    "- retrieve longitiude and latitude for zip, city, state level then add column and concat with PD\n",
    "- drop 'place' column from city_df with PD\n",
    "- reindex columns \n"
   ]
  },
  {
   "cell_type": "code",
   "execution_count": 20,
   "metadata": {},
   "outputs": [],
   "source": [
    "# print(f'Columns: {state_df.dtypes}')\n",
    "# print(f'Rows: {len(state_df)}')"
   ]
  },
  {
   "cell_type": "code",
   "execution_count": 21,
   "metadata": {},
   "outputs": [],
   "source": [
    "# def calculate_rates(df: pd.DataFrame) -> pd.DataFrame:\n",
    "#     df[\"poverty_rate\"] = 100 * df['poverty_count'].astype(int) / df[\"population\"].astype(int)\n",
    "#     df[\"unemployment_rate\"] = 100 * df[\"unemployment_count\"].astype(int) / df[\"population\"].astype(int)\n",
    "\n",
    "#     return df\n",
    "\n",
    "# state_df = calculate_rates(state_df)\n",
    "# city_df = calculate_rates(city_df)\n",
    "# zip_code_df = calculate_rates(zip_code_df)\n",
    "\n",
    "# state_df = state_df[['year', 'name', 'population', 'median_age', 'household_income', 'per_capita_income',\n",
    "#                     'poverty_count', 'unemployment_count', 'employment_count', 'poverty_rate','unemployment_rate']]\n",
    "# city_df = city_df[['year', 'city', 'population', 'median_age', 'household_income', 'per_capita_income',\n",
    "#                 'poverty_count', 'unemployment_count', 'employment_count', 'poverty_rate', 'unemployment_rate']]\n",
    "# zip_code_df = zip_code_df[['year', 'zip_code', 'population', 'median_age', 'household_income', 'per_capita_income',\n",
    "#                         'poverty_count', 'unemployment_count', 'employment_count', 'poverty_rate', 'unemployment_rate']]\n"
   ]
  },
  {
   "attachments": {},
   "cell_type": "markdown",
   "metadata": {},
   "source": [
    "# State economic data"
   ]
  },
  {
   "attachments": {},
   "cell_type": "markdown",
   "metadata": {},
   "source": [
    "# City Economic Data"
   ]
  },
  {
   "cell_type": "code",
   "execution_count": null,
   "metadata": {},
   "outputs": [],
   "source": []
  },
  {
   "attachments": {},
   "cell_type": "markdown",
   "metadata": {},
   "source": [
    "# Zip Code Economic Data\n"
   ]
  },
  {
   "attachments": {},
   "cell_type": "markdown",
   "metadata": {},
   "source": [
    "# State Geographic Data"
   ]
  },
  {
   "cell_type": "code",
   "execution_count": 22,
   "metadata": {},
   "outputs": [],
   "source": [
    "# values = zip_code_df['geographical_mobility'].isnull().sum()\n",
    "# values"
   ]
  },
  {
   "attachments": {},
   "cell_type": "markdown",
   "metadata": {},
   "source": [
    "# Transforms - Geographic\n",
    "- reorder index\n",
    "    - year first, location second\n",
    "- drop zip code tabulation area' \n",
    "- drop first half of zip code\n"
   ]
  },
  {
   "attachments": {},
   "cell_type": "markdown",
   "metadata": {},
   "source": [
    "# City Demographic Data"
   ]
  },
  {
   "attachments": {},
   "cell_type": "markdown",
   "metadata": {},
   "source": [
    "# Transformations\n",
    "\n",
    "- Reorder year, place to start of df\n",
    "- remove state # in state_df & city_df\n",
    "- split city, and zip code column "
   ]
  }
 ],
 "metadata": {
  "kernelspec": {
   "display_name": "airflow_env",
   "language": "python",
   "name": "python3"
  },
  "language_info": {
   "codemirror_mode": {
    "name": "ipython",
    "version": 3
   },
   "file_extension": ".py",
   "mimetype": "text/x-python",
   "name": "python",
   "nbconvert_exporter": "python",
   "pygments_lexer": "ipython3",
   "version": "3.9.16"
  },
  "orig_nbformat": 4
 },
 "nbformat": 4,
 "nbformat_minor": 2
}
